{
  "nbformat": 4,
  "nbformat_minor": 0,
  "metadata": {
    "colab": {
      "provenance": [],
      "authorship_tag": "ABX9TyMHjlbdm7mVkiLsGMEwRHYz",
      "include_colab_link": true
    },
    "kernelspec": {
      "name": "python3",
      "display_name": "Python 3"
    },
    "language_info": {
      "name": "python"
    }
  },
  "cells": [
    {
      "cell_type": "markdown",
      "metadata": {
        "id": "view-in-github",
        "colab_type": "text"
      },
      "source": [
        "<a href=\"https://colab.research.google.com/github/Anishma-110/python-stat-assignment/blob/main/Copy_of_Untitled11.ipynb\" target=\"_parent\"><img src=\"https://colab.research.google.com/assets/colab-badge.svg\" alt=\"Open In Colab\"/></a>"
      ]
    },
    {
      "cell_type": "code",
      "execution_count": null,
      "metadata": {
        "id": "O8FQjvDUA-fS"
      },
      "outputs": [],
      "source": [
        "Question 1\n",
        "Write a function to compute number of vowels in a string given as input"
      ]
    },
    {
      "cell_type": "code",
      "source": [
        "a = ['a', 'e', 'i', 'o', 'u']\n",
        "string= \"Hello World\"\n",
        "string = string.lower()\n",
        "\n",
        "def your_function_1():\n",
        "    count = 0\n",
        "    for i in string:\n",
        "        if i in a:\n",
        "            count += 1\n",
        "    print(\"Number of vowels:\", count)\n",
        "\n",
        "your_function_1()\n"
      ],
      "metadata": {
        "colab": {
          "base_uri": "https://localhost:8080/"
        },
        "id": "qITl9HlSBJ6E",
        "outputId": "4648d8ed-5139-49d7-f7ce-ed3e3088fa79"
      },
      "execution_count": null,
      "outputs": [
        {
          "output_type": "stream",
          "name": "stdout",
          "text": [
            "Number of vowels: 3\n"
          ]
        }
      ]
    },
    {
      "cell_type": "markdown",
      "source": [
        "### Question 2\n",
        "Write a function that checks whether a number is prime."
      ],
      "metadata": {
        "id": "P265XGB7DMyd"
      }
    },
    {
      "cell_type": "code",
      "metadata": {
        "colab": {
          "base_uri": "https://localhost:8080/"
        },
        "id": "80da5579",
        "outputId": "c9dccc1f-4f7b-4d80-84b2-26ea24f51c02"
      },
      "source": [
        "def your_function_2(number):\n",
        "    if number <= 1:\n",
        "        return False\n",
        "    for i in range(2, int(number**0.5) + 1):\n",
        "        if number % i == 0:\n",
        "            return False\n",
        "    return True\n",
        "num = int(input(\"Enter a number: \"))\n",
        "if your_function_2(num):\n",
        "    print(f\"{num} is a prime number\")\n",
        "else:\n",
        "    print(f\"{num} is not a prime number\")"
      ],
      "execution_count": null,
      "outputs": [
        {
          "output_type": "stream",
          "name": "stdout",
          "text": [
            "Enter a number: 6\n",
            "6 is not a prime number\n"
          ]
        }
      ]
    },
    {
      "cell_type": "markdown",
      "source": [
        "### Question 3\n",
        "Write a function to return the maximum of two numbers."
      ],
      "metadata": {
        "id": "fpeIpmGkGF-d"
      }
    },
    {
      "cell_type": "code",
      "source": [
        "a=int(input(\"Enter the first number: \"))\n",
        "b=int(input(\"Enter the second number:\"))\n",
        "def your_function_3():\n",
        "    if a>b:\n",
        "        print(f\"{a} is greater than {b}\")\n",
        "    elif b>a:\n",
        "        print(f\"{b} is greater than {a}\")\n",
        "    else:\n",
        "        print(f\"{a} is equal to {b}\")\n",
        "your_function_3()"
      ],
      "metadata": {
        "colab": {
          "base_uri": "https://localhost:8080/"
        },
        "id": "BLPstmQlD7ft",
        "outputId": "7335e812-8333-4903-da55-7801c39a189d"
      },
      "execution_count": null,
      "outputs": [
        {
          "output_type": "stream",
          "name": "stdout",
          "text": [
            "Enter the first number: 34\n",
            "Enter the second number:56\n",
            "56 is greater than 34\n"
          ]
        }
      ]
    },
    {
      "cell_type": "markdown",
      "source": [
        "### Question 4\n",
        "Write a function to return the factorial of a number."
      ],
      "metadata": {
        "id": "Z300HAcqIw11"
      }
    },
    {
      "cell_type": "code",
      "source": [
        "def your_function_4():\n",
        "  x=int(input(\"Enter the number: \"))\n",
        "  for i in range(1,x):\n",
        "    x=x*i\n",
        "  print(x)\n",
        "your_function_4()"
      ],
      "metadata": {
        "colab": {
          "base_uri": "https://localhost:8080/"
        },
        "id": "sSYr3CFBHQrN",
        "outputId": "ad4272dc-17ab-4a74-e9df-95f8158288ee"
      },
      "execution_count": null,
      "outputs": [
        {
          "output_type": "stream",
          "name": "stdout",
          "text": [
            "Enter the number: 23\n",
            "25852016738884976640000\n"
          ]
        }
      ]
    },
    {
      "cell_type": "markdown",
      "source": [
        "### Question 5\n",
        "Write a function to reverse a string without string indexing."
      ],
      "metadata": {
        "id": "BBF-A_Z_JxeV"
      }
    },
    {
      "cell_type": "code",
      "source": [
        "def your_function_5():\n",
        "  s = input(\"Enter the string: \")\n",
        "  # rev = s[::-1]\n",
        "  rev = reversed(s)\n",
        "  rev = ''.join(rev)\n",
        "  print(rev)\n",
        "your_function_5()\n"
      ],
      "metadata": {
        "colab": {
          "base_uri": "https://localhost:8080/"
        },
        "id": "73LaAr_GKEmU",
        "outputId": "a62272ca-f98a-40c6-b6e9-255e55f96fea"
      },
      "execution_count": null,
      "outputs": [
        {
          "output_type": "stream",
          "name": "stdout",
          "text": [
            "Enter the string: anishma\n",
            "amhsina\n"
          ]
        }
      ]
    },
    {
      "cell_type": "markdown",
      "source": [
        "### Question 6\n",
        "Write a function to check if a string is a palindrome."
      ],
      "metadata": {
        "id": "dBn1qMyMLPp1"
      }
    },
    {
      "cell_type": "code",
      "source": [
        "def your_function_6():\n",
        "  s = input(\"Enter the string: \")\n",
        "  rev = s[::-1]\n",
        "  if s == rev:\n",
        "    print(\"The string is a palindrome\")\n",
        "  else:\n",
        "    print(\"The string is not a palindrome\")\n",
        "your_function_6()\n"
      ],
      "metadata": {
        "colab": {
          "base_uri": "https://localhost:8080/"
        },
        "id": "Qm54ECIOK5hM",
        "outputId": "53fbe678-926e-475c-8aeb-dff824fdcaf6"
      },
      "execution_count": null,
      "outputs": [
        {
          "output_type": "stream",
          "name": "stdout",
          "text": [
            "Enter the string: malayalam\n",
            "The string is a palindrome\n"
          ]
        }
      ]
    },
    {
      "cell_type": "markdown",
      "source": [
        "### Question 7\n",
        "Write a function to count vowels in a string."
      ],
      "metadata": {
        "id": "wcrbsh_tL1Vd"
      }
    },
    {
      "cell_type": "code",
      "source": [
        "a = ['a', 'e', 'i', 'o', 'u']\n",
        "string = input(\"Enter the string: \").lower()\n",
        "def your_function_7():\n",
        "    count = 0\n",
        "    for i in string:\n",
        "        if i in a:\n",
        "            count += 1\n",
        "    print(\"Number of vowels:\", count)\n",
        "\n",
        "your_function_7()\n"
      ],
      "metadata": {
        "colab": {
          "base_uri": "https://localhost:8080/"
        },
        "id": "Iwbs2aeuLt8O",
        "outputId": "f2046150-6f33-4885-8d8d-d1ce84b281e2"
      },
      "execution_count": null,
      "outputs": [
        {
          "output_type": "stream",
          "name": "stdout",
          "text": [
            "Enter the string: anishma\n",
            "Number of vowels: 3\n"
          ]
        }
      ]
    },
    {
      "cell_type": "markdown",
      "source": [
        "### Question 8\n",
        "Write a function that returns the sum of a list."
      ],
      "metadata": {
        "id": "QFnJll-aMxoW"
      }
    },
    {
      "cell_type": "code",
      "source": [
        "x=['2','3','4','5']\n",
        "def your_function_8():\n",
        "  sum=0\n",
        "  for i in x:\n",
        "    sum=sum+int(i)\n",
        "  print(sum)\n",
        "your_function_8()\n"
      ],
      "metadata": {
        "colab": {
          "base_uri": "https://localhost:8080/"
        },
        "id": "EdlZbEqcM1I8",
        "outputId": "169bdd72-5bf3-4cfa-e25b-4276b0438807"
      },
      "execution_count": null,
      "outputs": [
        {
          "output_type": "stream",
          "name": "stdout",
          "text": [
            "14\n"
          ]
        }
      ]
    },
    {
      "cell_type": "markdown",
      "source": [],
      "metadata": {
        "id": "6xOebzZ_NjlN"
      }
    },
    {
      "cell_type": "markdown",
      "source": [
        "### Question 9\n",
        "Write a function to find the smallest number in a list."
      ],
      "metadata": {
        "id": "tgcxup2bN3M1"
      }
    },
    {
      "cell_type": "code",
      "source": [
        "y=['3','-1','5','7','1']\n",
        "def your_function_9():\n",
        "  s = min(y)\n",
        "  print(\"Smallest number:\", s)\n",
        "\n",
        "your_function_9()\n",
        "\n"
      ],
      "metadata": {
        "colab": {
          "base_uri": "https://localhost:8080/"
        },
        "id": "5tXHKHdTN1cd",
        "outputId": "9bbad1f9-7284-498d-dd62-c7f18c84143f"
      },
      "execution_count": null,
      "outputs": [
        {
          "output_type": "stream",
          "name": "stdout",
          "text": [
            "Smallest number: -1\n"
          ]
        }
      ]
    },
    {
      "cell_type": "markdown",
      "source": [
        "### Question 10\n",
        "Write a function to remove duplicates from a list."
      ],
      "metadata": {
        "id": "zhuRfoxjPv3t"
      }
    },
    {
      "cell_type": "code",
      "source": [
        "a=['a','b','c','a']\n",
        "def your_function_10():\n",
        "  b=set(a)\n",
        "  print(b)\n",
        "your_function_10()"
      ],
      "metadata": {
        "colab": {
          "base_uri": "https://localhost:8080/"
        },
        "id": "EIBLpBLPPdAV",
        "outputId": "0751ddfb-e383-4125-dba6-70fbf9d4db81"
      },
      "execution_count": null,
      "outputs": [
        {
          "output_type": "stream",
          "name": "stdout",
          "text": [
            "{'c', 'a', 'b'}\n"
          ]
        }
      ]
    },
    {
      "cell_type": "markdown",
      "source": [
        "### Question 11\n",
        "Write a function to sort a list in ascending order without using builtin sort function"
      ],
      "metadata": {
        "id": "ycOZvTx2TgTe"
      }
    },
    {
      "cell_type": "code",
      "source": [
        "a=[2,3,1,4,5]\n",
        "def your_function_11():\n",
        "  for i in range(len(a)):\n",
        "    for j in range(i+1,len(a)):\n",
        "      if a[i]>a[j]:\n",
        "        a[i],a[j]=a[j],a[i]\n",
        "  print(a)\n",
        "your_function_11()"
      ],
      "metadata": {
        "colab": {
          "base_uri": "https://localhost:8080/"
        },
        "id": "-ohjgghIQfsG",
        "outputId": "ad6156d6-36ca-44f2-c694-8fb85e6ce681"
      },
      "execution_count": null,
      "outputs": [
        {
          "output_type": "stream",
          "name": "stdout",
          "text": [
            "[1, 2, 3, 4, 5]\n"
          ]
        }
      ]
    },
    {
      "cell_type": "markdown",
      "source": [
        "### Question 12\n",
        "Write a function that returns the length of a string."
      ],
      "metadata": {
        "id": "HIYXDVSEVhGd"
      }
    },
    {
      "cell_type": "code",
      "source": [
        "x=input(\"Enter the string: \")\n",
        "def your_function_12():\n",
        "  print(len(x))\n",
        "your_function_12()"
      ],
      "metadata": {
        "colab": {
          "base_uri": "https://localhost:8080/"
        },
        "id": "OjuRAHYyVlRd",
        "outputId": "05cca414-a493-4428-a724-804f735b6f20"
      },
      "execution_count": null,
      "outputs": [
        {
          "output_type": "stream",
          "name": "stdout",
          "text": [
            "Enter the string: ictaccademy\n",
            "11\n"
          ]
        }
      ]
    },
    {
      "cell_type": "markdown",
      "source": [
        "### Question 13\n",
        "Write a function to count words in a sentence."
      ],
      "metadata": {
        "id": "ISQnHVawWBI1"
      }
    },
    {
      "cell_type": "code",
      "source": [
        "# a = \"i have pen, pen is blue\"\n",
        "# def your_function_13():\n",
        "#   b = a.count(\"pen\")\n",
        "#   print(b)\n",
        "# your_function_13()\n",
        "\n",
        "def your_function_13(sentence):\n",
        "    words = sentence.split()\n",
        "    return len(words)\n",
        "text = \"I am anishma from malappuram\"\n",
        "word_count = count_words(text)\n",
        "print(\"Number of words:\", word_count)"
      ],
      "metadata": {
        "colab": {
          "base_uri": "https://localhost:8080/"
        },
        "id": "-Y35A32NWCZm",
        "outputId": "77c3f83a-a8ed-47c7-8f71-af37600647a3"
      },
      "execution_count": null,
      "outputs": [
        {
          "output_type": "stream",
          "name": "stdout",
          "text": [
            "Number of words: 5\n"
          ]
        }
      ]
    },
    {
      "cell_type": "markdown",
      "source": [],
      "metadata": {
        "id": "XhMDTZfeUXyG"
      }
    },
    {
      "cell_type": "markdown",
      "source": [
        "### Question 14\n",
        "Write a function to convert Celsius to Fahrenheit."
      ],
      "metadata": {
        "id": "VRbc_91WbO_u"
      }
    },
    {
      "cell_type": "code",
      "source": [
        "celsius=float(input(\"Enter the temperature in celsius: \"))\n",
        "def your_function_14():\n",
        "    fahrenheit = (celsius * 9/5) + 32\n",
        "    return fahrenheit\n",
        "f = your_function_14()\n",
        "print(\"Temperature in Fahrenheit:\", f)"
      ],
      "metadata": {
        "colab": {
          "base_uri": "https://localhost:8080/"
        },
        "id": "S8EGM0gzXekO",
        "outputId": "bd73fc38-7ae6-4b68-8008-f39849c658ab"
      },
      "execution_count": null,
      "outputs": [
        {
          "output_type": "stream",
          "name": "stdout",
          "text": [
            "Enter the temperature in celsius: 25\n",
            "Temperature in Fahrenheit: 77.0\n"
          ]
        }
      ]
    },
    {
      "cell_type": "markdown",
      "source": [],
      "metadata": {
        "id": "eI-7evzydqle"
      }
    },
    {
      "cell_type": "markdown",
      "source": [
        "### Question 15\n",
        "Write a function to check if a number is palindrome."
      ],
      "metadata": {
        "id": "yT1zGDFbd6Hv"
      }
    },
    {
      "cell_type": "code",
      "source": [
        "def your_function_15():\n",
        "  s = input(\"Enter the number: \")\n",
        "  rev = s[::-1]\n",
        "  if s == rev:\n",
        "    print(\"The number is a palindrome\")\n",
        "  else:\n",
        "    print(\"The number is not a palindrome\")\n",
        "your_function_15()"
      ],
      "metadata": {
        "colab": {
          "base_uri": "https://localhost:8080/"
        },
        "id": "IlUuFhNPXijf",
        "outputId": "ef1d98d0-8928-4cd8-ad90-d4419dcac6ce"
      },
      "execution_count": null,
      "outputs": [
        {
          "output_type": "stream",
          "name": "stdout",
          "text": [
            "Enter the number: 123454321\n",
            "The number is a palindrome\n"
          ]
        }
      ]
    },
    {
      "cell_type": "markdown",
      "source": [
        "### Question 16\n",
        "Write a function to return all even numbers in a list."
      ],
      "metadata": {
        "id": "JSa1sra3e-IO"
      }
    },
    {
      "cell_type": "code",
      "source": [
        "a=['12','23','34','45','56']\n",
        "def your_function_16():\n",
        "  for i in a:\n",
        "    if int(i)%2==0:\n",
        "      print(i)\n",
        "your_function_16()"
      ],
      "metadata": {
        "colab": {
          "base_uri": "https://localhost:8080/"
        },
        "id": "I-L0U8TVeLuH",
        "outputId": "79413458-325f-4442-d679-9cc5bb74b0c8"
      },
      "execution_count": null,
      "outputs": [
        {
          "output_type": "stream",
          "name": "stdout",
          "text": [
            "12\n",
            "34\n",
            "56\n"
          ]
        }
      ]
    },
    {
      "cell_type": "markdown",
      "source": [
        "### Question 17\n",
        "Write a function to return the nth Fibonacci number."
      ],
      "metadata": {
        "id": "d-i6SxGjfX_m"
      }
    },
    {
      "cell_type": "code",
      "source": [
        "def your_function_17(n):\n",
        "    a, b = 0, 1\n",
        "    for _ in range(2, n + 1):\n",
        "      a, b = b, a + b\n",
        "    return b\n",
        "\n",
        "x = int(input(\"Enter the number: \"))\n",
        "result = your_function_17(x)\n",
        "print(\"The nth Fibonacci number is:\",result)"
      ],
      "metadata": {
        "colab": {
          "base_uri": "https://localhost:8080/"
        },
        "id": "Z88510tXfWTP",
        "outputId": "bfdc29e0-38f9-4526-af88-4ce347f5cfb8"
      },
      "execution_count": null,
      "outputs": [
        {
          "output_type": "stream",
          "name": "stdout",
          "text": [
            "Enter the number: 12\n",
            "The nth Fibonacci number is: 144\n"
          ]
        }
      ]
    },
    {
      "cell_type": "markdown",
      "source": [
        "### Question 18\n",
        "Write a function to calculate the average of a list."
      ],
      "metadata": {
        "id": "ZPwxEwGRi1Z3"
      }
    },
    {
      "cell_type": "code",
      "source": [
        "a=[4,5,7,9,13]\n",
        "def your_function_18():\n",
        "  x=sum(a)/len(a)\n",
        "  print(x)\n",
        "your_function_18()"
      ],
      "metadata": {
        "colab": {
          "base_uri": "https://localhost:8080/"
        },
        "id": "D277VqhShPj2",
        "outputId": "6e118262-0159-4170-daad-fe3cab0bf4d4"
      },
      "execution_count": null,
      "outputs": [
        {
          "output_type": "stream",
          "name": "stdout",
          "text": [
            "7.6\n"
          ]
        }
      ]
    },
    {
      "cell_type": "markdown",
      "source": [
        "### Question 19\n",
        "Write a function that returns a dictionary of character counts."
      ],
      "metadata": {
        "id": "4jXK4bTQkrtv"
      }
    },
    {
      "cell_type": "markdown",
      "source": [
        "### Question 20\n",
        "Write a function that returns True if all list elements are unique."
      ],
      "metadata": {
        "id": "1JhmUnmgl32e"
      }
    },
    {
      "cell_type": "code",
      "source": [
        "a={'a','b','c'}\n",
        "def your_function_10():\n",
        "  b=set(a)\n",
        "  print(b)\n",
        "  if b==a:\n",
        "    print(\"True\")\n",
        "  else:\n",
        "    print(\"False\")\n",
        "your_function_10()"
      ],
      "metadata": {
        "colab": {
          "base_uri": "https://localhost:8080/"
        },
        "id": "JwwjWYc3kO83",
        "outputId": "ffe33aaf-2328-4eb1-b72c-bbd2234b225b"
      },
      "execution_count": null,
      "outputs": [
        {
          "output_type": "stream",
          "name": "stdout",
          "text": [
            "{'c', 'a', 'b'}\n",
            "True\n"
          ]
        }
      ]
    },
    {
      "cell_type": "markdown",
      "source": [
        "### Question 21\n",
        "Write a function that returns dot product of two list of numbers"
      ],
      "metadata": {
        "id": "aie9bvr3mqzv"
      }
    },
    {
      "cell_type": "code",
      "source": [
        "def your_function_21(list1, list2):\n",
        "  dot_product = 0\n",
        "  for i in range(len(list1)):\n",
        "        dot_product += list1[i] * list2[i]\n",
        "  return dot_product\n",
        "\n",
        "list1=[1,2,3]\n",
        "list2=[4,5,6]\n",
        "result = your_function_21(list1, list2)\n",
        "print(\"Dot product is:\", result)"
      ],
      "metadata": {
        "colab": {
          "base_uri": "https://localhost:8080/"
        },
        "id": "CQ2gTP2lmtov",
        "outputId": "615007be-0aea-4d26-c82d-92de20b43d00"
      },
      "execution_count": null,
      "outputs": [
        {
          "output_type": "stream",
          "name": "stdout",
          "text": [
            "Dot product is: 32\n"
          ]
        }
      ]
    },
    {
      "cell_type": "markdown",
      "source": [
        "### Question 22\n",
        "Write a function that returns the projection of vector a onto vector b. Both a and b are given as list of numbers"
      ],
      "metadata": {
        "id": "qjvXtb2QpPru"
      }
    },
    {
      "cell_type": "code",
      "source": [],
      "metadata": {
        "id": "jCkLKrFppQtf"
      },
      "execution_count": null,
      "outputs": []
    },
    {
      "cell_type": "markdown",
      "source": [
        "### Question 23\n",
        "Write a function to return common elements between two lists."
      ],
      "metadata": {
        "id": "jt0XsRP2pyA_"
      }
    },
    {
      "cell_type": "code",
      "source": [
        "def your_function_23(list1, list2):\n",
        "    for element in list1:\n",
        "        if element in list2:\n",
        "            print(\"common elements are:\",element)\n",
        "            # print(\"Elements are:\", element[list1])\n",
        "            # return True\n",
        "    # print(\"No common elements found\")\n",
        "    # return False\n",
        "\n",
        "list1 = [1, 2, 3, 4, 5]\n",
        "list2 = [3, 4, 5, 6, 7]\n",
        "result = your_function_23(list1, list2)\n",
        "print(result)"
      ],
      "metadata": {
        "colab": {
          "base_uri": "https://localhost:8080/"
        },
        "id": "n2b9G5B5pxiv",
        "outputId": "033904bb-7548-4038-c365-49bf11474803"
      },
      "execution_count": null,
      "outputs": [
        {
          "output_type": "stream",
          "name": "stdout",
          "text": [
            "common elements are: 3\n",
            "common elements are: 4\n",
            "common elements are: 5\n",
            "None\n"
          ]
        }
      ]
    },
    {
      "cell_type": "markdown",
      "source": [
        "### Question 24\n",
        "Create a class Vector that supports addition, dot product, and magnitude."
      ],
      "metadata": {
        "id": "QcSJv8_Vr-4m"
      }
    },
    {
      "cell_type": "code",
      "source": [
        "class Vector:\n",
        "    def __init__(self, x, y, z):\n",
        "        self.x = x\n",
        "        self.y = y\n",
        "        self.z = z\n",
        "    def __add__(self, other):\n",
        "        return Vector(self.x + self.y + self.z + other.x + other.y + other.z)\n",
        "    def dot_product(self, other):\n",
        "        return self.x * other.x + self.y * other.y + self.z * other.z\n",
        "    def magnitude(self):\n",
        "        print(self.x,self.y,self.z)\n",
        "v1 = Vector(1, 2, 3)\n",
        "v2 = Vector(4, 5, 6)\n",
        "\n",
        "print(\"v1 + v2 =\", v1 + v2)\n",
        "print(\"Dot product:\", v1.dot_product(v2))\n",
        "print(\"Magnitude of v1:\", v1.magnitude())"
      ],
      "metadata": {
        "colab": {
          "base_uri": "https://localhost:8080/",
          "height": 332
        },
        "collapsed": true,
        "id": "8l4UgZ3AsF_w",
        "outputId": "8fc2d85c-5439-41f0-e983-bc180820b962"
      },
      "execution_count": null,
      "outputs": [
        {
          "output_type": "error",
          "ename": "TypeError",
          "evalue": "Vector.__init__() missing 2 required positional arguments: 'y' and 'z'",
          "traceback": [
            "\u001b[0;31m---------------------------------------------------------------------------\u001b[0m",
            "\u001b[0;31mTypeError\u001b[0m                                 Traceback (most recent call last)",
            "\u001b[0;32m/tmp/ipython-input-137-3743978533.py\u001b[0m in \u001b[0;36m<cell line: 0>\u001b[0;34m()\u001b[0m\n\u001b[1;32m     13\u001b[0m \u001b[0mv2\u001b[0m \u001b[0;34m=\u001b[0m \u001b[0mVector\u001b[0m\u001b[0;34m(\u001b[0m\u001b[0;36m4\u001b[0m\u001b[0;34m,\u001b[0m \u001b[0;36m5\u001b[0m\u001b[0;34m,\u001b[0m \u001b[0;36m6\u001b[0m\u001b[0;34m)\u001b[0m\u001b[0;34m\u001b[0m\u001b[0;34m\u001b[0m\u001b[0m\n\u001b[1;32m     14\u001b[0m \u001b[0;34m\u001b[0m\u001b[0m\n\u001b[0;32m---> 15\u001b[0;31m \u001b[0mprint\u001b[0m\u001b[0;34m(\u001b[0m\u001b[0;34m\"v1 + v2 =\"\u001b[0m\u001b[0;34m,\u001b[0m \u001b[0mv1\u001b[0m \u001b[0;34m+\u001b[0m \u001b[0mv2\u001b[0m\u001b[0;34m)\u001b[0m\u001b[0;34m\u001b[0m\u001b[0;34m\u001b[0m\u001b[0m\n\u001b[0m\u001b[1;32m     16\u001b[0m \u001b[0mprint\u001b[0m\u001b[0;34m(\u001b[0m\u001b[0;34m\"Dot product:\"\u001b[0m\u001b[0;34m,\u001b[0m \u001b[0mv1\u001b[0m\u001b[0;34m.\u001b[0m\u001b[0mdot_product\u001b[0m\u001b[0;34m(\u001b[0m\u001b[0mv2\u001b[0m\u001b[0;34m)\u001b[0m\u001b[0;34m)\u001b[0m\u001b[0;34m\u001b[0m\u001b[0;34m\u001b[0m\u001b[0m\n\u001b[1;32m     17\u001b[0m \u001b[0mprint\u001b[0m\u001b[0;34m(\u001b[0m\u001b[0;34m\"Magnitude of v1:\"\u001b[0m\u001b[0;34m,\u001b[0m \u001b[0mv1\u001b[0m\u001b[0;34m.\u001b[0m\u001b[0mmagnitude\u001b[0m\u001b[0;34m(\u001b[0m\u001b[0;34m)\u001b[0m\u001b[0;34m)\u001b[0m\u001b[0;34m\u001b[0m\u001b[0;34m\u001b[0m\u001b[0m\n",
            "\u001b[0;32m/tmp/ipython-input-137-3743978533.py\u001b[0m in \u001b[0;36m__add__\u001b[0;34m(self, other)\u001b[0m\n\u001b[1;32m      5\u001b[0m         \u001b[0mself\u001b[0m\u001b[0;34m.\u001b[0m\u001b[0mz\u001b[0m \u001b[0;34m=\u001b[0m \u001b[0mz\u001b[0m\u001b[0;34m\u001b[0m\u001b[0;34m\u001b[0m\u001b[0m\n\u001b[1;32m      6\u001b[0m     \u001b[0;32mdef\u001b[0m \u001b[0m__add__\u001b[0m\u001b[0;34m(\u001b[0m\u001b[0mself\u001b[0m\u001b[0;34m,\u001b[0m \u001b[0mother\u001b[0m\u001b[0;34m)\u001b[0m\u001b[0;34m:\u001b[0m\u001b[0;34m\u001b[0m\u001b[0;34m\u001b[0m\u001b[0m\n\u001b[0;32m----> 7\u001b[0;31m         \u001b[0;32mreturn\u001b[0m \u001b[0mVector\u001b[0m\u001b[0;34m(\u001b[0m\u001b[0mself\u001b[0m\u001b[0;34m.\u001b[0m\u001b[0mx\u001b[0m \u001b[0;34m+\u001b[0m \u001b[0mself\u001b[0m\u001b[0;34m.\u001b[0m\u001b[0my\u001b[0m \u001b[0;34m+\u001b[0m \u001b[0mself\u001b[0m\u001b[0;34m.\u001b[0m\u001b[0mz\u001b[0m \u001b[0;34m+\u001b[0m \u001b[0mother\u001b[0m\u001b[0;34m.\u001b[0m\u001b[0mx\u001b[0m \u001b[0;34m+\u001b[0m \u001b[0mother\u001b[0m\u001b[0;34m.\u001b[0m\u001b[0my\u001b[0m \u001b[0;34m+\u001b[0m \u001b[0mother\u001b[0m\u001b[0;34m.\u001b[0m\u001b[0mz\u001b[0m\u001b[0;34m)\u001b[0m\u001b[0;34m\u001b[0m\u001b[0;34m\u001b[0m\u001b[0m\n\u001b[0m\u001b[1;32m      8\u001b[0m     \u001b[0;32mdef\u001b[0m \u001b[0mdot_product\u001b[0m\u001b[0;34m(\u001b[0m\u001b[0mself\u001b[0m\u001b[0;34m,\u001b[0m \u001b[0mother\u001b[0m\u001b[0;34m)\u001b[0m\u001b[0;34m:\u001b[0m\u001b[0;34m\u001b[0m\u001b[0;34m\u001b[0m\u001b[0m\n\u001b[1;32m      9\u001b[0m         \u001b[0;32mreturn\u001b[0m \u001b[0mself\u001b[0m\u001b[0;34m.\u001b[0m\u001b[0mx\u001b[0m \u001b[0;34m*\u001b[0m \u001b[0mother\u001b[0m\u001b[0;34m.\u001b[0m\u001b[0mx\u001b[0m \u001b[0;34m+\u001b[0m \u001b[0mself\u001b[0m\u001b[0;34m.\u001b[0m\u001b[0my\u001b[0m \u001b[0;34m*\u001b[0m \u001b[0mother\u001b[0m\u001b[0;34m.\u001b[0m\u001b[0my\u001b[0m \u001b[0;34m+\u001b[0m \u001b[0mself\u001b[0m\u001b[0;34m.\u001b[0m\u001b[0mz\u001b[0m \u001b[0;34m*\u001b[0m \u001b[0mother\u001b[0m\u001b[0;34m.\u001b[0m\u001b[0mz\u001b[0m\u001b[0;34m\u001b[0m\u001b[0;34m\u001b[0m\u001b[0m\n",
            "\u001b[0;31mTypeError\u001b[0m: Vector.__init__() missing 2 required positional arguments: 'y' and 'z'"
          ]
        }
      ]
    },
    {
      "cell_type": "markdown",
      "source": [
        "### Question 27\n",
        "Create a list of squares of even numbers between 1 and 20 using list comprehension."
      ],
      "metadata": {
        "id": "a9ha5J6nwmWX"
      }
    },
    {
      "cell_type": "code",
      "source": [
        "def your_function_27():\n",
        "  squares_of_evens = [x**2 for x in range(1, 21) if x % 2 == 0]\n",
        "  print(squares_of_evens)\n",
        "your_function_27()\n"
      ],
      "metadata": {
        "colab": {
          "base_uri": "https://localhost:8080/"
        },
        "id": "9RRzZI0XxBZA",
        "outputId": "6a7a6b5a-e9f9-4f71-df38-30fd0265bed5"
      },
      "execution_count": null,
      "outputs": [
        {
          "output_type": "stream",
          "name": "stdout",
          "text": [
            "[4, 16, 36, 64, 100, 144, 196, 256, 324, 400]\n"
          ]
        }
      ]
    },
    {
      "cell_type": "markdown",
      "source": [],
      "metadata": {
        "id": "QU8FCHw1rTGg"
      }
    },
    {
      "cell_type": "markdown",
      "source": [],
      "metadata": {
        "id": "C4WYUSvgly43"
      }
    }
  ]
}